{
  "nbformat": 4,
  "nbformat_minor": 0,
  "metadata": {
    "colab": {
      "provenance": [],
      "authorship_tag": "ABX9TyOTOKLoHLHmTRIXHDhCQQZu",
      "include_colab_link": true
    },
    "kernelspec": {
      "name": "python3",
      "display_name": "Python 3"
    },
    "language_info": {
      "name": "python"
    }
  },
  "cells": [
    {
      "cell_type": "markdown",
      "metadata": {
        "id": "view-in-github",
        "colab_type": "text"
      },
      "source": [
        "<a href=\"https://colab.research.google.com/github/GabrielGaete/CodeChallengeGlobant/blob/main/BDD.ipynb\" target=\"_parent\"><img src=\"https://colab.research.google.com/assets/colab-badge.svg\" alt=\"Open In Colab\"/></a>"
      ]
    },
    {
      "cell_type": "code",
      "execution_count": 1,
      "metadata": {
        "colab": {
          "base_uri": "https://localhost:8080/"
        },
        "id": "ANp3BSQzF6Z5",
        "outputId": "1aadeae7-30c9-4b28-f44f-fe0454179ffd"
      },
      "outputs": [
        {
          "output_type": "stream",
          "name": "stdout",
          "text": [
            "    transaction_id product_name  quantity_sold   date_sold  price  \\\n",
            "0             1001   Smartphone            2.0  2023-10-01  300.0   \n",
            "1             1002       Laptop            1.0  2023-10-02  800.0   \n",
            "2             1002       Laptop            NaN  2023-10-02    NaN   \n",
            "3             1003   Headphones            5.0  2023-10-03   50.0   \n",
            "4             1004   Smartwatch            3.0  2023-10-04  150.0   \n",
            "5             1005       Tablet            2.0  2023-10-05  400.0   \n",
            "6             1006       Camera            1.0  2023-10-06  500.0   \n",
            "7             1007      Charger           10.0  2023-10-07   15.0   \n",
            "8             1008        Mouse            4.0  2023-10-08   25.0   \n",
            "9             1009     Keyboard            3.0  2023-10-09   45.0   \n",
            "10            1010      Monitor            2.0  2023-10-10  200.0   \n",
            "\n",
            "                                       store_location             user_agent  \n",
            "0                                            New York  Mozilla/5.0 (Android)  \n",
            "1                                         Los Angeles  Mozilla/5.0 (Windows)  \n",
            "2   Mozilla/5.0 (Windows) # Registro duplicado con...                    NaN  \n",
            "3                                             Chicago      Mozilla/5.0 (iOS)  \n",
            "4                                       San Francisco  Mozilla/5.0 (Android)  \n",
            "5                                              Boston    Mozilla/5.0 (macOS)  \n",
            "6                                               Miami  Mozilla/5.0 (Windows)  \n",
            "7                                             Seattle    Mozilla/5.0 (Linux)  \n",
            "8                                              Dallas  Mozilla/5.0 (Android)  \n",
            "9                                             Houston                    NaN  \n",
            "10                                       Philadelphia    Mozilla/5.0 (macOS)  \n"
          ]
        }
      ],
      "source": [
        "import pandas as pd\n",
        "from io import StringIO  # Importa StringIO del módulo io\n",
        "\n",
        "# Texto con los datos CSV\n",
        "csv_data = \"\"\"transaction_id,product_name,quantity_sold,date_sold,price,store_location,user_agent\n",
        "1001,Smartphone,2,2023-10-01,300,New York,\"Mozilla/5.0 (Android)\"\n",
        "1002,Laptop,1,2023-10-02,800,Los Angeles,\"Mozilla/5.0 (Windows)\"\n",
        "1002,Laptop,,2023-10-02,,\"Mozilla/5.0 (Windows)\" # Registro duplicado con valores faltantes\n",
        "1003,Headphones,5,2023-10-03,50,Chicago,\"Mozilla/5.0 (iOS)\"\n",
        "1004,Smartwatch,3,2023-10-04,150,San Francisco,\"Mozilla/5.0 (Android)\"\n",
        "1005,Tablet,2,2023-10-05,400,Boston,\"Mozilla/5.0 (macOS)\"\n",
        "1006,Camera,1,2023-10-06,500,Miami,\"Mozilla/5.0 (Windows)\"\n",
        "1007,Charger,10,2023-10-07,15,Seattle,\"Mozilla/5.0 (Linux)\"\n",
        "1008,Mouse,4,2023-10-08,25,Dallas,\"Mozilla/5.0 (Android)\"\n",
        "1009,Keyboard,3,2023-10-09,45,Houston,\"\"\n",
        "1010,Monitor,2,2023-10-10,200,Philadelphia,\"Mozilla/5.0 (macOS)\"\n",
        "\"\"\"\n",
        "\n",
        "# Convierte el texto CSV en un DataFrame\n",
        "df = pd.read_csv(StringIO(csv_data))  # Utiliza StringIO del módulo io\n",
        "\n",
        "# Muestra el DataFrame\n",
        "print(df)\n",
        "\n"
      ]
    }
  ]
}