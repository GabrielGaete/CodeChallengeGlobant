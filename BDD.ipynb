{
  "nbformat": 4,
  "nbformat_minor": 0,
  "metadata": {
    "colab": {
      "provenance": [],
      "authorship_tag": "ABX9TyPWpZeISoiuPYZ1ATquulKI",
      "include_colab_link": true
    },
    "kernelspec": {
      "name": "python3",
      "display_name": "Python 3"
    },
    "language_info": {
      "name": "python"
    }
  },
  "cells": [
    {
      "cell_type": "markdown",
      "metadata": {
        "id": "view-in-github",
        "colab_type": "text"
      },
      "source": [
        "<a href=\"https://colab.research.google.com/github/GabrielGaete/CodeChallengeGlobant/blob/main/BDD.ipynb\" target=\"_parent\"><img src=\"https://colab.research.google.com/assets/colab-badge.svg\" alt=\"Open In Colab\"/></a>"
      ]
    },
    {
      "cell_type": "code",
      "execution_count": 1,
      "metadata": {
        "colab": {
          "base_uri": "https://localhost:8080/",
          "height": 633
        },
        "id": "ANp3BSQzF6Z5",
        "outputId": "da163a76-3cfa-4c25-a9a2-03ff6d188a3f"
      },
      "outputs": [
        {
          "output_type": "stream",
          "name": "stdout",
          "text": [
            "Resultado de la consulta SQL:\n",
            "store_location\n",
            "Boston                                                                        2.0\n",
            "Chicago                                                                       5.0\n",
            "Dallas                                                                        4.0\n",
            "Houston                                                                       3.0\n",
            "Los Angeles                                                                   1.0\n",
            "Miami                                                                         1.0\n",
            "Mozilla/5.0 (Windows) # Registro duplicado con valores faltantes    ValorFaltante\n",
            "New York                                                                      2.0\n",
            "Philadelphia                                                                  2.0\n",
            "San Francisco                                                                 3.0\n",
            "Seattle                                                                      10.0\n",
            "Name: quantity_sold, dtype: object\n"
          ]
        },
        {
          "output_type": "error",
          "ename": "FileNotFoundError",
          "evalue": "ignored",
          "traceback": [
            "\u001b[0;31m---------------------------------------------------------------------------\u001b[0m",
            "\u001b[0;31mFileNotFoundError\u001b[0m                         Traceback (most recent call last)",
            "\u001b[0;32m<ipython-input-1-df52cca1c300>\u001b[0m in \u001b[0;36m<cell line: 31>\u001b[0;34m()\u001b[0m\n\u001b[1;32m     29\u001b[0m \u001b[0mprint\u001b[0m\u001b[0;34m(\u001b[0m\u001b[0mresultado_sql\u001b[0m\u001b[0;34m)\u001b[0m\u001b[0;34m\u001b[0m\u001b[0;34m\u001b[0m\u001b[0m\n\u001b[1;32m     30\u001b[0m \u001b[0;34m\u001b[0m\u001b[0m\n\u001b[0;32m---> 31\u001b[0;31m credentials = service_account.Credentials.from_service_account_file('C:\\\\Users\\\\Gabriel\\\\Descargas\\\\codechallenge-402300-20745a6f28bf.json', \n\u001b[0m\u001b[1;32m     32\u001b[0m                                                                     scopes=[\"https://www.googleapis.com/auth/cloud-platform\"]) #autenticacion de Bigquery\n\u001b[1;32m     33\u001b[0m \u001b[0;34m\u001b[0m\u001b[0m\n",
            "\u001b[0;32m/usr/local/lib/python3.10/dist-packages/google/oauth2/service_account.py\u001b[0m in \u001b[0;36mfrom_service_account_file\u001b[0;34m(cls, filename, **kwargs)\u001b[0m\n\u001b[1;32m    239\u001b[0m                 \u001b[0mcredentials\u001b[0m\u001b[0;34m.\u001b[0m\u001b[0;34m\u001b[0m\u001b[0;34m\u001b[0m\u001b[0m\n\u001b[1;32m    240\u001b[0m         \"\"\"\n\u001b[0;32m--> 241\u001b[0;31m         info, signer = _service_account_info.from_filename(\n\u001b[0m\u001b[1;32m    242\u001b[0m             \u001b[0mfilename\u001b[0m\u001b[0;34m,\u001b[0m \u001b[0mrequire\u001b[0m\u001b[0;34m=\u001b[0m\u001b[0;34m[\u001b[0m\u001b[0;34m\"client_email\"\u001b[0m\u001b[0;34m,\u001b[0m \u001b[0;34m\"token_uri\"\u001b[0m\u001b[0;34m]\u001b[0m\u001b[0;34m\u001b[0m\u001b[0;34m\u001b[0m\u001b[0m\n\u001b[1;32m    243\u001b[0m         )\n",
            "\u001b[0;32m/usr/local/lib/python3.10/dist-packages/google/auth/_service_account_info.py\u001b[0m in \u001b[0;36mfrom_filename\u001b[0;34m(filename, require, use_rsa_signer)\u001b[0m\n\u001b[1;32m     78\u001b[0m             \u001b[0minfo\u001b[0m \u001b[0;32mand\u001b[0m \u001b[0ma\u001b[0m \u001b[0msigner\u001b[0m \u001b[0minstance\u001b[0m\u001b[0;34m.\u001b[0m\u001b[0;34m\u001b[0m\u001b[0;34m\u001b[0m\u001b[0m\n\u001b[1;32m     79\u001b[0m     \"\"\"\n\u001b[0;32m---> 80\u001b[0;31m     \u001b[0;32mwith\u001b[0m \u001b[0mio\u001b[0m\u001b[0;34m.\u001b[0m\u001b[0mopen\u001b[0m\u001b[0;34m(\u001b[0m\u001b[0mfilename\u001b[0m\u001b[0;34m,\u001b[0m \u001b[0;34m\"r\"\u001b[0m\u001b[0;34m,\u001b[0m \u001b[0mencoding\u001b[0m\u001b[0;34m=\u001b[0m\u001b[0;34m\"utf-8\"\u001b[0m\u001b[0;34m)\u001b[0m \u001b[0;32mas\u001b[0m \u001b[0mjson_file\u001b[0m\u001b[0;34m:\u001b[0m\u001b[0;34m\u001b[0m\u001b[0;34m\u001b[0m\u001b[0m\n\u001b[0m\u001b[1;32m     81\u001b[0m         \u001b[0mdata\u001b[0m \u001b[0;34m=\u001b[0m \u001b[0mjson\u001b[0m\u001b[0;34m.\u001b[0m\u001b[0mload\u001b[0m\u001b[0;34m(\u001b[0m\u001b[0mjson_file\u001b[0m\u001b[0;34m)\u001b[0m\u001b[0;34m\u001b[0m\u001b[0;34m\u001b[0m\u001b[0m\n\u001b[1;32m     82\u001b[0m         \u001b[0;32mreturn\u001b[0m \u001b[0mdata\u001b[0m\u001b[0;34m,\u001b[0m \u001b[0mfrom_dict\u001b[0m\u001b[0;34m(\u001b[0m\u001b[0mdata\u001b[0m\u001b[0;34m,\u001b[0m \u001b[0mrequire\u001b[0m\u001b[0;34m=\u001b[0m\u001b[0mrequire\u001b[0m\u001b[0;34m,\u001b[0m \u001b[0muse_rsa_signer\u001b[0m\u001b[0;34m=\u001b[0m\u001b[0muse_rsa_signer\u001b[0m\u001b[0;34m)\u001b[0m\u001b[0;34m\u001b[0m\u001b[0;34m\u001b[0m\u001b[0m\n",
            "\u001b[0;31mFileNotFoundError\u001b[0m: [Errno 2] No such file or directory: 'C:\\\\Users\\\\Gabriel\\\\Descargas\\\\codechallenge-402300-20745a6f28bf.json'"
          ]
        }
      ],
      "source": [
        "import pandas as pd\n",
        "from io import StringIO\n",
        "from google.cloud import bigquery\n",
        "from google.oauth2 import service_account\n",
        "\n",
        "csv_data = \"\"\"transaction_id,product_name,quantity_sold,date_sold,price,store_location,user_agent\n",
        "1001,Smartphone,2,2023-10-01,300,New York,\"Mozilla/5.0 (Android)\"\n",
        "1002,Laptop,1,2023-10-02,800,Los Angeles,\"Mozilla/5.0 (Windows)\"\n",
        "1002,Laptop,,2023-10-02,,\"Mozilla/5.0 (Windows)\" # Registro duplicado con valores faltantes\n",
        "1003,Headphones,5,2023-10-03,50,Chicago,\"Mozilla/5.0 (iOS)\"\n",
        "1004,Smartwatch,3,2023-10-04,150,San Francisco,\"Mozilla/5.0 (Android)\"\n",
        "1005,Tablet,2,2023-10-05,400,Boston,\"Mozilla/5.0 (macOS)\"\n",
        "1006,Camera,1,2023-10-06,500,Miami,\"Mozilla/5.0 (Windows)\"\n",
        "1007,Charger,10,2023-10-07,15,Seattle,\"Mozilla/5.0 (Linux)\"\n",
        "1008,Mouse,4,2023-10-08,25,Dallas,\"Mozilla/5.0 (Android)\"\n",
        "1009,Keyboard,3,2023-10-09,45,Houston,\"\"\n",
        "1010,Monitor,2,2023-10-10,200,Philadelphia,\"Mozilla/5.0 (macOS)\"\n",
        "\"\"\"\n",
        "\n",
        "df = pd.read_csv(StringIO(csv_data))\n",
        "\n",
        "\n",
        "df = df.drop_duplicates() #limpieza y transformación de datos\n",
        "df = df.fillna('ValorFaltante')\n",
        "\n",
        "resultado_sql = df.groupby('store_location')['quantity_sold'].sum()    # Supongamos que queremos segmentar por la ubicación de la tienda y calcular la suma de la cantidad vendida.\n",
        "\n",
        "print(\"Resultado de la consulta SQL:\")   # resultado de la consulta SQL\n",
        "print(resultado_sql)\n",
        "\n",
        "credentials = service_account.Credentials.from_service_account_file('C:\\\\Users\\\\Gabriel\\\\Descargas\\\\codechallenge-402300-20745a6f28bf.json',\n",
        "                                                                    scopes=[\"https://www.googleapis.com/auth/cloud-platform\"]) #autenticacion de Bigquery\n",
        "\n",
        "client = bigquery.Client(credentials=credentials, project='GGaeteCodeChallenge') # cliente de BigQuery\n",
        "\n",
        "dataset_id = 'transacciones'   #doy nombre a los conjuntos de datos y tabla de Bigquery\n",
        "table_id = 'registros_ventas'\n",
        "\n",
        "# Define el esquema de la tabla en BigQuery\n",
        "schema = [\n",
        "    bigquery.SchemaField(\"transaction_id\", \"INTEGER\"),\n",
        "    bigquery.SchemaField(\"product_name\", \"STRING\"),\n",
        "    bigquery.SchemaField(\"quantity_sold\", \"INTEGER\"),\n",
        "    bigquery.SchemaField(\"date_sold\", \"DATE\"),\n",
        "    bigquery.SchemaField(\"price\", \"FLOAT\"),\n",
        "    bigquery.SchemaField(\"store_location\", \"STRING\"),\n",
        "    bigquery.SchemaField(\"user_agent\", \"STRING\"),\n",
        "]\n",
        "\n",
        "# Carga de datos desde el DataFrame\n",
        "job_config = bigquery.LoadJobConfig(schema=schema, write_disposition=\"WRITE_TRUNCATE\")\n",
        "\n",
        "table_ref = client.dataset(dataset_id).table(table_id)\n",
        "job = client.load_table_from_dataframe(df, table_ref, job_config=job_config)\n",
        "\n",
        "job.result()\n",
        "\n",
        "print(\"Datos cargados en BigQuery.\")\n"
      ]
    }
  ]
}